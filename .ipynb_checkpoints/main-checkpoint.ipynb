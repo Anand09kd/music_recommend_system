{
 "cells": [
  {
   "cell_type": "code",
   "execution_count": 47,
   "id": "c66d0d3a-092d-4a37-8aa6-f44c97ce179b",
   "metadata": {},
   "outputs": [],
   "source": [
    "import pandas as pd\n",
    "import numpy as np"
   ]
  },
  {
   "cell_type": "code",
   "execution_count": 5,
   "id": "114c029c-e2cc-4339-9028-b09f1bfae0d2",
   "metadata": {},
   "outputs": [],
   "source": [
    "df = pd.read_csv('spotify_millsongdata.csv')"
   ]
  },
  {
   "cell_type": "code",
   "execution_count": 6,
   "id": "6390d201-e4f4-4bf8-87b0-c617f37cf263",
   "metadata": {},
   "outputs": [
    {
     "data": {
      "text/html": [
       "<div>\n",
       "<style scoped>\n",
       "    .dataframe tbody tr th:only-of-type {\n",
       "        vertical-align: middle;\n",
       "    }\n",
       "\n",
       "    .dataframe tbody tr th {\n",
       "        vertical-align: top;\n",
       "    }\n",
       "\n",
       "    .dataframe thead th {\n",
       "        text-align: right;\n",
       "    }\n",
       "</style>\n",
       "<table border=\"1\" class=\"dataframe\">\n",
       "  <thead>\n",
       "    <tr style=\"text-align: right;\">\n",
       "      <th></th>\n",
       "      <th>artist</th>\n",
       "      <th>song</th>\n",
       "      <th>link</th>\n",
       "      <th>text</th>\n",
       "    </tr>\n",
       "  </thead>\n",
       "  <tbody>\n",
       "    <tr>\n",
       "      <th>0</th>\n",
       "      <td>ABBA</td>\n",
       "      <td>Ahe's My Kind Of Girl</td>\n",
       "      <td>/a/abba/ahes+my+kind+of+girl_20598417.html</td>\n",
       "      <td>Look at her face, it's a wonderful face  \\r\\nA...</td>\n",
       "    </tr>\n",
       "    <tr>\n",
       "      <th>1</th>\n",
       "      <td>ABBA</td>\n",
       "      <td>Andante, Andante</td>\n",
       "      <td>/a/abba/andante+andante_20002708.html</td>\n",
       "      <td>Take it easy with me, please  \\r\\nTouch me gen...</td>\n",
       "    </tr>\n",
       "    <tr>\n",
       "      <th>2</th>\n",
       "      <td>ABBA</td>\n",
       "      <td>As Good As New</td>\n",
       "      <td>/a/abba/as+good+as+new_20003033.html</td>\n",
       "      <td>I'll never know why I had to go  \\r\\nWhy I had...</td>\n",
       "    </tr>\n",
       "    <tr>\n",
       "      <th>3</th>\n",
       "      <td>ABBA</td>\n",
       "      <td>Bang</td>\n",
       "      <td>/a/abba/bang_20598415.html</td>\n",
       "      <td>Making somebody happy is a question of give an...</td>\n",
       "    </tr>\n",
       "    <tr>\n",
       "      <th>4</th>\n",
       "      <td>ABBA</td>\n",
       "      <td>Bang-A-Boomerang</td>\n",
       "      <td>/a/abba/bang+a+boomerang_20002668.html</td>\n",
       "      <td>Making somebody happy is a question of give an...</td>\n",
       "    </tr>\n",
       "  </tbody>\n",
       "</table>\n",
       "</div>"
      ],
      "text/plain": [
       "  artist                   song                                        link  \\\n",
       "0   ABBA  Ahe's My Kind Of Girl  /a/abba/ahes+my+kind+of+girl_20598417.html   \n",
       "1   ABBA       Andante, Andante       /a/abba/andante+andante_20002708.html   \n",
       "2   ABBA         As Good As New        /a/abba/as+good+as+new_20003033.html   \n",
       "3   ABBA                   Bang                  /a/abba/bang_20598415.html   \n",
       "4   ABBA       Bang-A-Boomerang      /a/abba/bang+a+boomerang_20002668.html   \n",
       "\n",
       "                                                text  \n",
       "0  Look at her face, it's a wonderful face  \\r\\nA...  \n",
       "1  Take it easy with me, please  \\r\\nTouch me gen...  \n",
       "2  I'll never know why I had to go  \\r\\nWhy I had...  \n",
       "3  Making somebody happy is a question of give an...  \n",
       "4  Making somebody happy is a question of give an...  "
      ]
     },
     "execution_count": 6,
     "metadata": {},
     "output_type": "execute_result"
    }
   ],
   "source": [
    "df.head(5)"
   ]
  },
  {
   "cell_type": "code",
   "execution_count": 7,
   "id": "ac76c828-8112-4a90-9ff3-9d4f79e86b13",
   "metadata": {},
   "outputs": [
    {
     "data": {
      "text/plain": [
       "(57650, 4)"
      ]
     },
     "execution_count": 7,
     "metadata": {},
     "output_type": "execute_result"
    }
   ],
   "source": [
    "df.shape"
   ]
  },
  {
   "cell_type": "code",
   "execution_count": 8,
   "id": "b3ea948b-4e91-4f1a-897d-65dc118636f2",
   "metadata": {},
   "outputs": [
    {
     "data": {
      "text/plain": [
       "artist    0\n",
       "song      0\n",
       "link      0\n",
       "text      0\n",
       "dtype: int64"
      ]
     },
     "execution_count": 8,
     "metadata": {},
     "output_type": "execute_result"
    }
   ],
   "source": [
    "df.isnull().sum()"
   ]
  },
  {
   "cell_type": "code",
   "execution_count": 9,
   "id": "99080604-e4ed-4482-8355-03d68f8b488e",
   "metadata": {},
   "outputs": [
    {
     "data": {
      "text/html": [
       "<div>\n",
       "<style scoped>\n",
       "    .dataframe tbody tr th:only-of-type {\n",
       "        vertical-align: middle;\n",
       "    }\n",
       "\n",
       "    .dataframe tbody tr th {\n",
       "        vertical-align: top;\n",
       "    }\n",
       "\n",
       "    .dataframe thead th {\n",
       "        text-align: right;\n",
       "    }\n",
       "</style>\n",
       "<table border=\"1\" class=\"dataframe\">\n",
       "  <thead>\n",
       "    <tr style=\"text-align: right;\">\n",
       "      <th></th>\n",
       "      <th>artist</th>\n",
       "      <th>song</th>\n",
       "      <th>text</th>\n",
       "    </tr>\n",
       "  </thead>\n",
       "  <tbody>\n",
       "    <tr>\n",
       "      <th>0</th>\n",
       "      <td>ABBA</td>\n",
       "      <td>Ahe's My Kind Of Girl</td>\n",
       "      <td>Look at her face, it's a wonderful face  \\r\\nA...</td>\n",
       "    </tr>\n",
       "    <tr>\n",
       "      <th>1</th>\n",
       "      <td>ABBA</td>\n",
       "      <td>Andante, Andante</td>\n",
       "      <td>Take it easy with me, please  \\r\\nTouch me gen...</td>\n",
       "    </tr>\n",
       "    <tr>\n",
       "      <th>2</th>\n",
       "      <td>ABBA</td>\n",
       "      <td>As Good As New</td>\n",
       "      <td>I'll never know why I had to go  \\r\\nWhy I had...</td>\n",
       "    </tr>\n",
       "    <tr>\n",
       "      <th>3</th>\n",
       "      <td>ABBA</td>\n",
       "      <td>Bang</td>\n",
       "      <td>Making somebody happy is a question of give an...</td>\n",
       "    </tr>\n",
       "    <tr>\n",
       "      <th>4</th>\n",
       "      <td>ABBA</td>\n",
       "      <td>Bang-A-Boomerang</td>\n",
       "      <td>Making somebody happy is a question of give an...</td>\n",
       "    </tr>\n",
       "    <tr>\n",
       "      <th>...</th>\n",
       "      <td>...</td>\n",
       "      <td>...</td>\n",
       "      <td>...</td>\n",
       "    </tr>\n",
       "    <tr>\n",
       "      <th>57645</th>\n",
       "      <td>Ziggy Marley</td>\n",
       "      <td>Good Old Days</td>\n",
       "      <td>Irie days come on play  \\r\\nLet the angels fly...</td>\n",
       "    </tr>\n",
       "    <tr>\n",
       "      <th>57646</th>\n",
       "      <td>Ziggy Marley</td>\n",
       "      <td>Hand To Mouth</td>\n",
       "      <td>Power to the workers  \\r\\nMore power  \\r\\nPowe...</td>\n",
       "    </tr>\n",
       "    <tr>\n",
       "      <th>57647</th>\n",
       "      <td>Zwan</td>\n",
       "      <td>Come With Me</td>\n",
       "      <td>all you need  \\r\\nis something i'll believe  \\...</td>\n",
       "    </tr>\n",
       "    <tr>\n",
       "      <th>57648</th>\n",
       "      <td>Zwan</td>\n",
       "      <td>Desire</td>\n",
       "      <td>northern star  \\r\\nam i frightened  \\r\\nwhere ...</td>\n",
       "    </tr>\n",
       "    <tr>\n",
       "      <th>57649</th>\n",
       "      <td>Zwan</td>\n",
       "      <td>Heartsong</td>\n",
       "      <td>come in  \\r\\nmake yourself at home  \\r\\ni'm a ...</td>\n",
       "    </tr>\n",
       "  </tbody>\n",
       "</table>\n",
       "<p>57650 rows × 3 columns</p>\n",
       "</div>"
      ],
      "text/plain": [
       "             artist                   song  \\\n",
       "0              ABBA  Ahe's My Kind Of Girl   \n",
       "1              ABBA       Andante, Andante   \n",
       "2              ABBA         As Good As New   \n",
       "3              ABBA                   Bang   \n",
       "4              ABBA       Bang-A-Boomerang   \n",
       "...             ...                    ...   \n",
       "57645  Ziggy Marley          Good Old Days   \n",
       "57646  Ziggy Marley          Hand To Mouth   \n",
       "57647          Zwan           Come With Me   \n",
       "57648          Zwan                 Desire   \n",
       "57649          Zwan              Heartsong   \n",
       "\n",
       "                                                    text  \n",
       "0      Look at her face, it's a wonderful face  \\r\\nA...  \n",
       "1      Take it easy with me, please  \\r\\nTouch me gen...  \n",
       "2      I'll never know why I had to go  \\r\\nWhy I had...  \n",
       "3      Making somebody happy is a question of give an...  \n",
       "4      Making somebody happy is a question of give an...  \n",
       "...                                                  ...  \n",
       "57645  Irie days come on play  \\r\\nLet the angels fly...  \n",
       "57646  Power to the workers  \\r\\nMore power  \\r\\nPowe...  \n",
       "57647  all you need  \\r\\nis something i'll believe  \\...  \n",
       "57648  northern star  \\r\\nam i frightened  \\r\\nwhere ...  \n",
       "57649  come in  \\r\\nmake yourself at home  \\r\\ni'm a ...  \n",
       "\n",
       "[57650 rows x 3 columns]"
      ]
     },
     "execution_count": 9,
     "metadata": {},
     "output_type": "execute_result"
    }
   ],
   "source": [
    "df.drop('link', axis=1).reset_index(drop=True)"
   ]
  },
  {
   "cell_type": "code",
   "execution_count": 11,
   "id": "d5304797-590f-4038-9c10-b8cb3469e001",
   "metadata": {},
   "outputs": [],
   "source": [
    " df = df.sample(5000)"
   ]
  },
  {
   "cell_type": "code",
   "execution_count": 12,
   "id": "593d92bc-6c47-4627-8375-a841fa3b2ab6",
   "metadata": {},
   "outputs": [
    {
     "data": {
      "text/plain": [
       "(5000, 4)"
      ]
     },
     "execution_count": 12,
     "metadata": {},
     "output_type": "execute_result"
    }
   ],
   "source": [
    "df.shape"
   ]
  },
  {
   "cell_type": "markdown",
   "id": "ab4cbb5f-6021-4033-bc91-a7b24f5bbdf0",
   "metadata": {},
   "source": [
    "## Text Cleaning and Processing"
   ]
  },
  {
   "cell_type": "code",
   "execution_count": 15,
   "id": "a1bc3aa0-831c-4321-ab8a-7fd218ac7213",
   "metadata": {},
   "outputs": [],
   "source": [
    "df['text'] = df['text'].str.lower().replace(r'^\\w\\s', ' ').replace(r'\\n', ' ', regex = True)"
   ]
  },
  {
   "cell_type": "code",
   "execution_count": 16,
   "id": "2bd3a4cd-bb7b-4c9c-b3a3-1501c709cc31",
   "metadata": {},
   "outputs": [],
   "source": [
    "import nltk\n",
    "from nltk.stem.porter import PorterStemmer\n",
    "stemmer = PorterStemmer()\n",
    "\n",
    "def tokenization(txt):\n",
    "    tokens = nltk.word_tokenize(txt)\n",
    "    stemming = [stemmer.stem(w) for w in tokens]\n",
    "    return \" \".join(stemming)"
   ]
  },
  {
   "cell_type": "code",
   "execution_count": 17,
   "id": "03dab1c5-f763-4660-8647-6ba8ace19b63",
   "metadata": {},
   "outputs": [],
   "source": [
    "df['text'] = df['text'].apply(lambda x: tokenization(x))"
   ]
  },
  {
   "cell_type": "code",
   "execution_count": 18,
   "id": "68ba45e1-8e8b-446c-83ee-e31f1a7444df",
   "metadata": {},
   "outputs": [],
   "source": [
    "from sklearn.feature_extraction.text import TfidfVectorizer\n",
    "from sklearn.metrics.pairwise import cosine_similarity"
   ]
  },
  {
   "cell_type": "code",
   "execution_count": 20,
   "id": "3ef3cd71-62c5-434f-9881-5fb13e944e65",
   "metadata": {},
   "outputs": [],
   "source": [
    "tfidvector = TfidfVectorizer(analyzer='word',stop_words='english')\n",
    "matrix = tfidvector.fit_transform(df['text'])\n",
    "similarity = cosine_similarity(matrix)"
   ]
  },
  {
   "cell_type": "code",
   "execution_count": 21,
   "id": "e54376c9-fcfc-4da5-8cf0-227380d12292",
   "metadata": {},
   "outputs": [
    {
     "data": {
      "text/plain": [
       "array([1.        , 0.0193098 , 0.01134571, ..., 0.        , 0.02590268,\n",
       "       0.00121626])"
      ]
     },
     "execution_count": 21,
     "metadata": {},
     "output_type": "execute_result"
    }
   ],
   "source": [
    "similarity[0]"
   ]
  },
  {
   "cell_type": "code",
   "execution_count": 22,
   "id": "ff88fa1e-3ae9-4375-aa1e-f53c19ee6a9b",
   "metadata": {},
   "outputs": [
    {
     "data": {
      "text/html": [
       "<div>\n",
       "<style scoped>\n",
       "    .dataframe tbody tr th:only-of-type {\n",
       "        vertical-align: middle;\n",
       "    }\n",
       "\n",
       "    .dataframe tbody tr th {\n",
       "        vertical-align: top;\n",
       "    }\n",
       "\n",
       "    .dataframe thead th {\n",
       "        text-align: right;\n",
       "    }\n",
       "</style>\n",
       "<table border=\"1\" class=\"dataframe\">\n",
       "  <thead>\n",
       "    <tr style=\"text-align: right;\">\n",
       "      <th></th>\n",
       "      <th>artist</th>\n",
       "      <th>song</th>\n",
       "      <th>link</th>\n",
       "      <th>text</th>\n",
       "    </tr>\n",
       "  </thead>\n",
       "  <tbody>\n",
       "    <tr>\n",
       "      <th>19891</th>\n",
       "      <td>UB40</td>\n",
       "      <td>Crying Over You</td>\n",
       "      <td>/u/ub40/crying+over+you_20141696.html</td>\n",
       "      <td>cri over you in the morn cri over you in the e...</td>\n",
       "    </tr>\n",
       "  </tbody>\n",
       "</table>\n",
       "</div>"
      ],
      "text/plain": [
       "      artist             song                                   link  \\\n",
       "19891   UB40  Crying Over You  /u/ub40/crying+over+you_20141696.html   \n",
       "\n",
       "                                                    text  \n",
       "19891  cri over you in the morn cri over you in the e...  "
      ]
     },
     "execution_count": 22,
     "metadata": {},
     "output_type": "execute_result"
    }
   ],
   "source": [
    "df[df['song'] == 'Crying Over You']"
   ]
  },
  {
   "cell_type": "code",
   "execution_count": 32,
   "id": "70915ddc-3202-49bc-87b1-4eaa40339fdd",
   "metadata": {},
   "outputs": [],
   "source": [
    "def recommendation(song_df):\n",
    "    idx = df[df['song'] == song_df].index[0]\n",
    "    distances = sorted(list(enumerate(similarity[idx])),reverse=True,key=lambda x:x[1])\n",
    "    \n",
    "    songs = []\n",
    "    for m_id in distances[1:21]:\n",
    "        songs.append(df.iloc[m_id[0]].song)\n",
    "        \n",
    "    return songs"
   ]
  },
  {
   "cell_type": "code",
   "execution_count": 36,
   "id": "13020191-656b-40a4-94a7-fec729d83501",
   "metadata": {},
   "outputs": [],
   "source": [
    "import pickle\n",
    "pickle.dump(similarity, open('similarity.pkl', 'wb'))\n",
    "pickle.dump(df,open('df.pkl','wb'))"
   ]
  },
  {
   "cell_type": "code",
   "execution_count": 46,
   "id": "6ecea8d4-8e8d-4f1b-9eda-022b9395be36",
   "metadata": {},
   "outputs": [
    {
     "data": {
      "text/html": [
       "<div>\n",
       "<style scoped>\n",
       "    .dataframe tbody tr th:only-of-type {\n",
       "        vertical-align: middle;\n",
       "    }\n",
       "\n",
       "    .dataframe tbody tr th {\n",
       "        vertical-align: top;\n",
       "    }\n",
       "\n",
       "    .dataframe thead th {\n",
       "        text-align: right;\n",
       "    }\n",
       "</style>\n",
       "<table border=\"1\" class=\"dataframe\">\n",
       "  <thead>\n",
       "    <tr style=\"text-align: right;\">\n",
       "      <th></th>\n",
       "      <th>artist</th>\n",
       "      <th>song</th>\n",
       "      <th>link</th>\n",
       "      <th>text</th>\n",
       "    </tr>\n",
       "  </thead>\n",
       "  <tbody>\n",
       "    <tr>\n",
       "      <th>54986</th>\n",
       "      <td>Venom</td>\n",
       "      <td>Sacrifice</td>\n",
       "      <td>/v/venom/sacrifice_20175433.html</td>\n",
       "      <td>hood figur , cloud sky fire burn within their ...</td>\n",
       "    </tr>\n",
       "    <tr>\n",
       "      <th>46372</th>\n",
       "      <td>Oasis</td>\n",
       "      <td>Bring It On Down</td>\n",
       "      <td>/o/oasis/bring+it+on+down_20102324.html</td>\n",
       "      <td>what wa that sound ring around your brain ? to...</td>\n",
       "    </tr>\n",
       "    <tr>\n",
       "      <th>46361</th>\n",
       "      <td>Oasis</td>\n",
       "      <td>All Around The World</td>\n",
       "      <td>/o/oasis/all+around+the+world_20102312.html</td>\n",
       "      <td>it 's a bit earli in the midnight hour for me ...</td>\n",
       "    </tr>\n",
       "    <tr>\n",
       "      <th>42809</th>\n",
       "      <td>Marianne Faithfull</td>\n",
       "      <td>Once I Had A Sweetheart</td>\n",
       "      <td>/m/marianne+faithfull/once+i+had+a+sweetheart_...</td>\n",
       "      <td>onc i had a sweetheart and now i have none onc...</td>\n",
       "    </tr>\n",
       "    <tr>\n",
       "      <th>6068</th>\n",
       "      <td>Fleetwood Mac</td>\n",
       "      <td>Although The Sun Is Shining</td>\n",
       "      <td>/f/fleetwood+mac/although+the+sun+is+shining_2...</td>\n",
       "      <td>although the sun is shine high abov there 's o...</td>\n",
       "    </tr>\n",
       "    <tr>\n",
       "      <th>...</th>\n",
       "      <td>...</td>\n",
       "      <td>...</td>\n",
       "      <td>...</td>\n",
       "      <td>...</td>\n",
       "    </tr>\n",
       "    <tr>\n",
       "      <th>31709</th>\n",
       "      <td>Erasure</td>\n",
       "      <td>Can't Help Falling In Love</td>\n",
       "      <td>/e/erasure/cant+help+falling+in+love_20503533....</td>\n",
       "      <td>wise men say onli fool rush in but i ca n't he...</td>\n",
       "    </tr>\n",
       "    <tr>\n",
       "      <th>53185</th>\n",
       "      <td>Tim McGraw</td>\n",
       "      <td>For A Little While</td>\n",
       "      <td>/t/tim+mcgraw/for+a+little+while_20137346.html</td>\n",
       "      <td>hot sun , dancin ' on the river we 'd sit on t...</td>\n",
       "    </tr>\n",
       "    <tr>\n",
       "      <th>9253</th>\n",
       "      <td>Jim Croce</td>\n",
       "      <td>Big Fat Woman</td>\n",
       "      <td>/j/jim+croce/big+fat+woman_20153345.html</td>\n",
       "      <td>you big fat woman get your fat leg off of me y...</td>\n",
       "    </tr>\n",
       "    <tr>\n",
       "      <th>40848</th>\n",
       "      <td>Kris Kristofferson</td>\n",
       "      <td>Darby's Castle</td>\n",
       "      <td>/k/kris+kristofferson/darbys+castle_20080516.html</td>\n",
       "      <td>see the ruin on the hill , where the smoke is ...</td>\n",
       "    </tr>\n",
       "    <tr>\n",
       "      <th>15411</th>\n",
       "      <td>Ozzy Osbourne</td>\n",
       "      <td>Never Know Why</td>\n",
       "      <td>/o/ozzy+osbourne/never+know+why_20103975.html</td>\n",
       "      <td>if we 're offens and pose a threat you fear wh...</td>\n",
       "    </tr>\n",
       "  </tbody>\n",
       "</table>\n",
       "<p>5000 rows × 4 columns</p>\n",
       "</div>"
      ],
      "text/plain": [
       "                   artist                         song  \\\n",
       "54986               Venom                    Sacrifice   \n",
       "46372               Oasis             Bring It On Down   \n",
       "46361               Oasis         All Around The World   \n",
       "42809  Marianne Faithfull      Once I Had A Sweetheart   \n",
       "6068        Fleetwood Mac  Although The Sun Is Shining   \n",
       "...                   ...                          ...   \n",
       "31709             Erasure   Can't Help Falling In Love   \n",
       "53185          Tim McGraw           For A Little While   \n",
       "9253            Jim Croce                Big Fat Woman   \n",
       "40848  Kris Kristofferson               Darby's Castle   \n",
       "15411       Ozzy Osbourne               Never Know Why   \n",
       "\n",
       "                                                    link  \\\n",
       "54986                   /v/venom/sacrifice_20175433.html   \n",
       "46372            /o/oasis/bring+it+on+down_20102324.html   \n",
       "46361        /o/oasis/all+around+the+world_20102312.html   \n",
       "42809  /m/marianne+faithfull/once+i+had+a+sweetheart_...   \n",
       "6068   /f/fleetwood+mac/although+the+sun+is+shining_2...   \n",
       "...                                                  ...   \n",
       "31709  /e/erasure/cant+help+falling+in+love_20503533....   \n",
       "53185     /t/tim+mcgraw/for+a+little+while_20137346.html   \n",
       "9253            /j/jim+croce/big+fat+woman_20153345.html   \n",
       "40848  /k/kris+kristofferson/darbys+castle_20080516.html   \n",
       "15411      /o/ozzy+osbourne/never+know+why_20103975.html   \n",
       "\n",
       "                                                    text  \n",
       "54986  hood figur , cloud sky fire burn within their ...  \n",
       "46372  what wa that sound ring around your brain ? to...  \n",
       "46361  it 's a bit earli in the midnight hour for me ...  \n",
       "42809  onc i had a sweetheart and now i have none onc...  \n",
       "6068   although the sun is shine high abov there 's o...  \n",
       "...                                                  ...  \n",
       "31709  wise men say onli fool rush in but i ca n't he...  \n",
       "53185  hot sun , dancin ' on the river we 'd sit on t...  \n",
       "9253   you big fat woman get your fat leg off of me y...  \n",
       "40848  see the ruin on the hill , where the smoke is ...  \n",
       "15411  if we 're offens and pose a threat you fear wh...  \n",
       "\n",
       "[5000 rows x 4 columns]"
      ]
     },
     "execution_count": 46,
     "metadata": {},
     "output_type": "execute_result"
    }
   ],
   "source": [
    "pickle.load(open('df.pkl', 'rb'))"
   ]
  },
  {
   "cell_type": "code",
   "execution_count": 39,
   "id": "9be6e226-217d-4a8e-9c82-53ce769af73c",
   "metadata": {},
   "outputs": [
    {
     "name": "stdout",
     "output_type": "stream",
     "text": [
      "similarity.pkl: 200000164 bytes\n",
      "df.pkl: 5792477 bytes\n"
     ]
    }
   ],
   "source": [
    "import os\n",
    "print(\"similarity.pkl:\", os.path.getsize(\"similarity.pkl\"), \"bytes\")\n",
    "print(\"df.pkl:\", os.path.getsize(\"df.pkl\"), \"bytes\")"
   ]
  },
  {
   "cell_type": "code",
   "execution_count": 48,
   "id": "cceeb5ac-1b62-4255-8e5f-5b8b1afc0f8b",
   "metadata": {},
   "outputs": [
    {
     "name": "stdout",
     "output_type": "stream",
     "text": [
      "Shape of similarity matrix: (5000, 5000)\n"
     ]
    }
   ],
   "source": [
    "# Load your full similarity matrix\n",
    "with open('similarity.pkl', 'rb') as f:  # or np.load('similarity.npy')\n",
    "    similarity = pickle.load(f)\n",
    "\n",
    "print(\"Shape of similarity matrix:\", np.array(similarity).shape)\n"
   ]
  },
  {
   "cell_type": "code",
   "execution_count": 49,
   "id": "f16a7abe-2a5d-4fea-8609-baeee5070085",
   "metadata": {},
   "outputs": [],
   "source": [
    "# Convert to NumPy array if not already\n",
    "similarity = np.array(similarity)\n",
    "\n",
    "# Find midpoint\n",
    "mid = len(similarity) // 2\n",
    "\n",
    "# Split into two parts\n",
    "similarity_part1 = similarity[:mid, :]\n",
    "similarity_part2 = similarity[mid:, :]\n"
   ]
  },
  {
   "cell_type": "code",
   "execution_count": 50,
   "id": "d218feec-5eee-455e-b985-6882a9136333",
   "metadata": {},
   "outputs": [
    {
     "name": "stdout",
     "output_type": "stream",
     "text": [
      "Similarity matrix successfully split into 2 parts!\n"
     ]
    }
   ],
   "source": [
    "with open('similarity_part_1.pkl', 'wb') as f:\n",
    "    pickle.dump(similarity_part1, f)\n",
    "\n",
    "with open('similarity_part_2.pkl', 'wb') as f:\n",
    "    pickle.dump(similarity_part2, f)\n",
    "\n",
    "print(\"Similarity matrix successfully split into 2 parts!\")\n"
   ]
  },
  {
   "cell_type": "code",
   "execution_count": 51,
   "id": "c2df8b9b-1d05-477f-bd9a-f09f42e430c6",
   "metadata": {},
   "outputs": [
    {
     "name": "stdout",
     "output_type": "stream",
     "text": [
      "Part 1 shape: (2500, 5000)\n",
      "Part 2 shape: (2500, 5000)\n"
     ]
    }
   ],
   "source": [
    "with open('similarity_part_1.pkl', 'rb') as f:\n",
    "    part1 = pickle.load(f)\n",
    "print(\"Part 1 shape:\", np.array(part1).shape)\n",
    "\n",
    "with open('similarity_part_2.pkl', 'rb') as f:\n",
    "    part2 = pickle.load(f)\n",
    "print(\"Part 2 shape:\", np.array(part2).shape)\n"
   ]
  },
  {
   "cell_type": "code",
   "execution_count": 40,
   "id": "74a304dd-5fd9-42fe-ba74-ac790945ef0f",
   "metadata": {},
   "outputs": [
    {
     "name": "stdout",
     "output_type": "stream",
     "text": [
      "✅ Saved: df.pkl and similarity.pkl\n"
     ]
    }
   ],
   "source": [
    "with open(\"similarity.pkl\", \"wb\") as f:\n",
    "    pickle.dump(similarity, f)\n",
    "\n",
    "with open(\"df.pkl\", \"wb\") as f:\n",
    "    pickle.dump(df, f)\n",
    "\n",
    "print(\"✅ Saved: df.pkl and similarity.pkl\")"
   ]
  },
  {
   "cell_type": "code",
   "execution_count": null,
   "id": "b15ece3c-2b01-4f80-90c6-f0dd5fda4071",
   "metadata": {},
   "outputs": [],
   "source": []
  }
 ],
 "metadata": {
  "kernelspec": {
   "display_name": "Python [conda env:base] *",
   "language": "python",
   "name": "conda-base-py"
  },
  "language_info": {
   "codemirror_mode": {
    "name": "ipython",
    "version": 3
   },
   "file_extension": ".py",
   "mimetype": "text/x-python",
   "name": "python",
   "nbconvert_exporter": "python",
   "pygments_lexer": "ipython3",
   "version": "3.13.5"
  }
 },
 "nbformat": 4,
 "nbformat_minor": 5
}
