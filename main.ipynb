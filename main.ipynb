{
 "cells": [
  {
   "cell_type": "code",
   "execution_count": 1,
   "id": "c66d0d3a-092d-4a37-8aa6-f44c97ce179b",
   "metadata": {},
   "outputs": [],
   "source": [
    "import pandas as pd\n",
    "import numpy as np"
   ]
  },
  {
   "cell_type": "code",
   "execution_count": 2,
   "id": "114c029c-e2cc-4339-9028-b09f1bfae0d2",
   "metadata": {},
   "outputs": [],
   "source": [
    "df = pd.read_csv('spotify_millsongdata.csv')"
   ]
  },
  {
   "cell_type": "code",
   "execution_count": 3,
   "id": "6390d201-e4f4-4bf8-87b0-c617f37cf263",
   "metadata": {},
   "outputs": [
    {
     "data": {
      "text/html": [
       "<div>\n",
       "<style scoped>\n",
       "    .dataframe tbody tr th:only-of-type {\n",
       "        vertical-align: middle;\n",
       "    }\n",
       "\n",
       "    .dataframe tbody tr th {\n",
       "        vertical-align: top;\n",
       "    }\n",
       "\n",
       "    .dataframe thead th {\n",
       "        text-align: right;\n",
       "    }\n",
       "</style>\n",
       "<table border=\"1\" class=\"dataframe\">\n",
       "  <thead>\n",
       "    <tr style=\"text-align: right;\">\n",
       "      <th></th>\n",
       "      <th>artist</th>\n",
       "      <th>song</th>\n",
       "      <th>link</th>\n",
       "      <th>text</th>\n",
       "    </tr>\n",
       "  </thead>\n",
       "  <tbody>\n",
       "    <tr>\n",
       "      <th>0</th>\n",
       "      <td>ABBA</td>\n",
       "      <td>Ahe's My Kind Of Girl</td>\n",
       "      <td>/a/abba/ahes+my+kind+of+girl_20598417.html</td>\n",
       "      <td>Look at her face, it's a wonderful face  \\r\\nA...</td>\n",
       "    </tr>\n",
       "    <tr>\n",
       "      <th>1</th>\n",
       "      <td>ABBA</td>\n",
       "      <td>Andante, Andante</td>\n",
       "      <td>/a/abba/andante+andante_20002708.html</td>\n",
       "      <td>Take it easy with me, please  \\r\\nTouch me gen...</td>\n",
       "    </tr>\n",
       "    <tr>\n",
       "      <th>2</th>\n",
       "      <td>ABBA</td>\n",
       "      <td>As Good As New</td>\n",
       "      <td>/a/abba/as+good+as+new_20003033.html</td>\n",
       "      <td>I'll never know why I had to go  \\r\\nWhy I had...</td>\n",
       "    </tr>\n",
       "    <tr>\n",
       "      <th>3</th>\n",
       "      <td>ABBA</td>\n",
       "      <td>Bang</td>\n",
       "      <td>/a/abba/bang_20598415.html</td>\n",
       "      <td>Making somebody happy is a question of give an...</td>\n",
       "    </tr>\n",
       "    <tr>\n",
       "      <th>4</th>\n",
       "      <td>ABBA</td>\n",
       "      <td>Bang-A-Boomerang</td>\n",
       "      <td>/a/abba/bang+a+boomerang_20002668.html</td>\n",
       "      <td>Making somebody happy is a question of give an...</td>\n",
       "    </tr>\n",
       "  </tbody>\n",
       "</table>\n",
       "</div>"
      ],
      "text/plain": [
       "  artist                   song                                        link  \\\n",
       "0   ABBA  Ahe's My Kind Of Girl  /a/abba/ahes+my+kind+of+girl_20598417.html   \n",
       "1   ABBA       Andante, Andante       /a/abba/andante+andante_20002708.html   \n",
       "2   ABBA         As Good As New        /a/abba/as+good+as+new_20003033.html   \n",
       "3   ABBA                   Bang                  /a/abba/bang_20598415.html   \n",
       "4   ABBA       Bang-A-Boomerang      /a/abba/bang+a+boomerang_20002668.html   \n",
       "\n",
       "                                                text  \n",
       "0  Look at her face, it's a wonderful face  \\r\\nA...  \n",
       "1  Take it easy with me, please  \\r\\nTouch me gen...  \n",
       "2  I'll never know why I had to go  \\r\\nWhy I had...  \n",
       "3  Making somebody happy is a question of give an...  \n",
       "4  Making somebody happy is a question of give an...  "
      ]
     },
     "execution_count": 3,
     "metadata": {},
     "output_type": "execute_result"
    }
   ],
   "source": [
    "df.head(5)"
   ]
  },
  {
   "cell_type": "code",
   "execution_count": 4,
   "id": "ac76c828-8112-4a90-9ff3-9d4f79e86b13",
   "metadata": {},
   "outputs": [
    {
     "data": {
      "text/plain": [
       "(57650, 4)"
      ]
     },
     "execution_count": 4,
     "metadata": {},
     "output_type": "execute_result"
    }
   ],
   "source": [
    "df.shape"
   ]
  },
  {
   "cell_type": "code",
   "execution_count": 5,
   "id": "b3ea948b-4e91-4f1a-897d-65dc118636f2",
   "metadata": {},
   "outputs": [
    {
     "data": {
      "text/plain": [
       "artist    0\n",
       "song      0\n",
       "link      0\n",
       "text      0\n",
       "dtype: int64"
      ]
     },
     "execution_count": 5,
     "metadata": {},
     "output_type": "execute_result"
    }
   ],
   "source": [
    "df.isnull().sum()"
   ]
  },
  {
   "cell_type": "code",
   "execution_count": 6,
   "id": "99080604-e4ed-4482-8355-03d68f8b488e",
   "metadata": {},
   "outputs": [
    {
     "data": {
      "text/html": [
       "<div>\n",
       "<style scoped>\n",
       "    .dataframe tbody tr th:only-of-type {\n",
       "        vertical-align: middle;\n",
       "    }\n",
       "\n",
       "    .dataframe tbody tr th {\n",
       "        vertical-align: top;\n",
       "    }\n",
       "\n",
       "    .dataframe thead th {\n",
       "        text-align: right;\n",
       "    }\n",
       "</style>\n",
       "<table border=\"1\" class=\"dataframe\">\n",
       "  <thead>\n",
       "    <tr style=\"text-align: right;\">\n",
       "      <th></th>\n",
       "      <th>artist</th>\n",
       "      <th>song</th>\n",
       "      <th>text</th>\n",
       "    </tr>\n",
       "  </thead>\n",
       "  <tbody>\n",
       "    <tr>\n",
       "      <th>0</th>\n",
       "      <td>ABBA</td>\n",
       "      <td>Ahe's My Kind Of Girl</td>\n",
       "      <td>Look at her face, it's a wonderful face  \\r\\nA...</td>\n",
       "    </tr>\n",
       "    <tr>\n",
       "      <th>1</th>\n",
       "      <td>ABBA</td>\n",
       "      <td>Andante, Andante</td>\n",
       "      <td>Take it easy with me, please  \\r\\nTouch me gen...</td>\n",
       "    </tr>\n",
       "    <tr>\n",
       "      <th>2</th>\n",
       "      <td>ABBA</td>\n",
       "      <td>As Good As New</td>\n",
       "      <td>I'll never know why I had to go  \\r\\nWhy I had...</td>\n",
       "    </tr>\n",
       "    <tr>\n",
       "      <th>3</th>\n",
       "      <td>ABBA</td>\n",
       "      <td>Bang</td>\n",
       "      <td>Making somebody happy is a question of give an...</td>\n",
       "    </tr>\n",
       "    <tr>\n",
       "      <th>4</th>\n",
       "      <td>ABBA</td>\n",
       "      <td>Bang-A-Boomerang</td>\n",
       "      <td>Making somebody happy is a question of give an...</td>\n",
       "    </tr>\n",
       "    <tr>\n",
       "      <th>...</th>\n",
       "      <td>...</td>\n",
       "      <td>...</td>\n",
       "      <td>...</td>\n",
       "    </tr>\n",
       "    <tr>\n",
       "      <th>57645</th>\n",
       "      <td>Ziggy Marley</td>\n",
       "      <td>Good Old Days</td>\n",
       "      <td>Irie days come on play  \\r\\nLet the angels fly...</td>\n",
       "    </tr>\n",
       "    <tr>\n",
       "      <th>57646</th>\n",
       "      <td>Ziggy Marley</td>\n",
       "      <td>Hand To Mouth</td>\n",
       "      <td>Power to the workers  \\r\\nMore power  \\r\\nPowe...</td>\n",
       "    </tr>\n",
       "    <tr>\n",
       "      <th>57647</th>\n",
       "      <td>Zwan</td>\n",
       "      <td>Come With Me</td>\n",
       "      <td>all you need  \\r\\nis something i'll believe  \\...</td>\n",
       "    </tr>\n",
       "    <tr>\n",
       "      <th>57648</th>\n",
       "      <td>Zwan</td>\n",
       "      <td>Desire</td>\n",
       "      <td>northern star  \\r\\nam i frightened  \\r\\nwhere ...</td>\n",
       "    </tr>\n",
       "    <tr>\n",
       "      <th>57649</th>\n",
       "      <td>Zwan</td>\n",
       "      <td>Heartsong</td>\n",
       "      <td>come in  \\r\\nmake yourself at home  \\r\\ni'm a ...</td>\n",
       "    </tr>\n",
       "  </tbody>\n",
       "</table>\n",
       "<p>57650 rows × 3 columns</p>\n",
       "</div>"
      ],
      "text/plain": [
       "             artist                   song  \\\n",
       "0              ABBA  Ahe's My Kind Of Girl   \n",
       "1              ABBA       Andante, Andante   \n",
       "2              ABBA         As Good As New   \n",
       "3              ABBA                   Bang   \n",
       "4              ABBA       Bang-A-Boomerang   \n",
       "...             ...                    ...   \n",
       "57645  Ziggy Marley          Good Old Days   \n",
       "57646  Ziggy Marley          Hand To Mouth   \n",
       "57647          Zwan           Come With Me   \n",
       "57648          Zwan                 Desire   \n",
       "57649          Zwan              Heartsong   \n",
       "\n",
       "                                                    text  \n",
       "0      Look at her face, it's a wonderful face  \\r\\nA...  \n",
       "1      Take it easy with me, please  \\r\\nTouch me gen...  \n",
       "2      I'll never know why I had to go  \\r\\nWhy I had...  \n",
       "3      Making somebody happy is a question of give an...  \n",
       "4      Making somebody happy is a question of give an...  \n",
       "...                                                  ...  \n",
       "57645  Irie days come on play  \\r\\nLet the angels fly...  \n",
       "57646  Power to the workers  \\r\\nMore power  \\r\\nPowe...  \n",
       "57647  all you need  \\r\\nis something i'll believe  \\...  \n",
       "57648  northern star  \\r\\nam i frightened  \\r\\nwhere ...  \n",
       "57649  come in  \\r\\nmake yourself at home  \\r\\ni'm a ...  \n",
       "\n",
       "[57650 rows x 3 columns]"
      ]
     },
     "execution_count": 6,
     "metadata": {},
     "output_type": "execute_result"
    }
   ],
   "source": [
    "df.drop('link', axis=1).reset_index(drop=True)"
   ]
  },
  {
   "cell_type": "code",
   "execution_count": 7,
   "id": "d5304797-590f-4038-9c10-b8cb3469e001",
   "metadata": {},
   "outputs": [],
   "source": [
    " df = df.sample(5000)"
   ]
  },
  {
   "cell_type": "code",
   "execution_count": 8,
   "id": "593d92bc-6c47-4627-8375-a841fa3b2ab6",
   "metadata": {},
   "outputs": [
    {
     "data": {
      "text/plain": [
       "(5000, 4)"
      ]
     },
     "execution_count": 8,
     "metadata": {},
     "output_type": "execute_result"
    }
   ],
   "source": [
    "df.shape"
   ]
  },
  {
   "cell_type": "markdown",
   "id": "ab4cbb5f-6021-4033-bc91-a7b24f5bbdf0",
   "metadata": {},
   "source": [
    "## Text Cleaning and Processing"
   ]
  },
  {
   "cell_type": "code",
   "execution_count": 9,
   "id": "a1bc3aa0-831c-4321-ab8a-7fd218ac7213",
   "metadata": {},
   "outputs": [],
   "source": [
    "df['text'] = df['text'].str.lower().replace(r'^\\w\\s', ' ').replace(r'\\n', ' ', regex = True)"
   ]
  },
  {
   "cell_type": "code",
   "execution_count": 10,
   "id": "2bd3a4cd-bb7b-4c9c-b3a3-1501c709cc31",
   "metadata": {},
   "outputs": [],
   "source": [
    "import nltk\n",
    "from nltk.stem.porter import PorterStemmer\n",
    "stemmer = PorterStemmer()\n",
    "\n",
    "def tokenization(txt):\n",
    "    tokens = nltk.word_tokenize(txt)\n",
    "    stemming = [stemmer.stem(w) for w in tokens]\n",
    "    return \" \".join(stemming)"
   ]
  },
  {
   "cell_type": "code",
   "execution_count": 11,
   "id": "03dab1c5-f763-4660-8647-6ba8ace19b63",
   "metadata": {},
   "outputs": [],
   "source": [
    "df['text'] = df['text'].apply(lambda x: tokenization(x))"
   ]
  },
  {
   "cell_type": "code",
   "execution_count": 12,
   "id": "68ba45e1-8e8b-446c-83ee-e31f1a7444df",
   "metadata": {},
   "outputs": [],
   "source": [
    "from sklearn.feature_extraction.text import TfidfVectorizer\n",
    "from sklearn.metrics.pairwise import cosine_similarity"
   ]
  },
  {
   "cell_type": "code",
   "execution_count": 13,
   "id": "3ef3cd71-62c5-434f-9881-5fb13e944e65",
   "metadata": {},
   "outputs": [],
   "source": [
    "tfidvector = TfidfVectorizer(analyzer='word',stop_words='english')\n",
    "matrix = tfidvector.fit_transform(df['text'])\n",
    "similarity = cosine_similarity(matrix)"
   ]
  },
  {
   "cell_type": "code",
   "execution_count": 14,
   "id": "e54376c9-fcfc-4da5-8cf0-227380d12292",
   "metadata": {},
   "outputs": [
    {
     "data": {
      "text/plain": [
       "array([1.        , 0.02015486, 0.03075532, ..., 0.03738152, 0.02070937,\n",
       "       0.03751019])"
      ]
     },
     "execution_count": 14,
     "metadata": {},
     "output_type": "execute_result"
    }
   ],
   "source": [
    "similarity[0]"
   ]
  },
  {
   "cell_type": "code",
   "execution_count": 15,
   "id": "ff88fa1e-3ae9-4375-aa1e-f53c19ee6a9b",
   "metadata": {},
   "outputs": [
    {
     "data": {
      "text/html": [
       "<div>\n",
       "<style scoped>\n",
       "    .dataframe tbody tr th:only-of-type {\n",
       "        vertical-align: middle;\n",
       "    }\n",
       "\n",
       "    .dataframe tbody tr th {\n",
       "        vertical-align: top;\n",
       "    }\n",
       "\n",
       "    .dataframe thead th {\n",
       "        text-align: right;\n",
       "    }\n",
       "</style>\n",
       "<table border=\"1\" class=\"dataframe\">\n",
       "  <thead>\n",
       "    <tr style=\"text-align: right;\">\n",
       "      <th></th>\n",
       "      <th>artist</th>\n",
       "      <th>song</th>\n",
       "      <th>link</th>\n",
       "      <th>text</th>\n",
       "    </tr>\n",
       "  </thead>\n",
       "  <tbody>\n",
       "  </tbody>\n",
       "</table>\n",
       "</div>"
      ],
      "text/plain": [
       "Empty DataFrame\n",
       "Columns: [artist, song, link, text]\n",
       "Index: []"
      ]
     },
     "execution_count": 15,
     "metadata": {},
     "output_type": "execute_result"
    }
   ],
   "source": [
    "df[df['song'] == 'Crying Over You']"
   ]
  },
  {
   "cell_type": "code",
   "execution_count": 16,
   "id": "70915ddc-3202-49bc-87b1-4eaa40339fdd",
   "metadata": {},
   "outputs": [],
   "source": [
    "def recommendation(song_df):\n",
    "    idx = df[df['song'] == song_df].index[0]\n",
    "    distances = sorted(list(enumerate(similarity[idx])),reverse=True,key=lambda x:x[1])\n",
    "    \n",
    "    songs = []\n",
    "    for m_id in distances[1:21]:\n",
    "        songs.append(df.iloc[m_id[0]].song)\n",
    "        \n",
    "    return songs"
   ]
  },
  {
   "cell_type": "code",
   "execution_count": 17,
   "id": "13020191-656b-40a4-94a7-fec729d83501",
   "metadata": {},
   "outputs": [],
   "source": [
    "import pickle\n",
    "pickle.dump(similarity, open('similarity.pkl', 'wb'))\n",
    "pickle.dump(df,open('df.pkl','wb'))"
   ]
  },
  {
   "cell_type": "code",
   "execution_count": 18,
   "id": "6ecea8d4-8e8d-4f1b-9eda-022b9395be36",
   "metadata": {},
   "outputs": [
    {
     "data": {
      "text/html": [
       "<div>\n",
       "<style scoped>\n",
       "    .dataframe tbody tr th:only-of-type {\n",
       "        vertical-align: middle;\n",
       "    }\n",
       "\n",
       "    .dataframe tbody tr th {\n",
       "        vertical-align: top;\n",
       "    }\n",
       "\n",
       "    .dataframe thead th {\n",
       "        text-align: right;\n",
       "    }\n",
       "</style>\n",
       "<table border=\"1\" class=\"dataframe\">\n",
       "  <thead>\n",
       "    <tr style=\"text-align: right;\">\n",
       "      <th></th>\n",
       "      <th>artist</th>\n",
       "      <th>song</th>\n",
       "      <th>link</th>\n",
       "      <th>text</th>\n",
       "    </tr>\n",
       "  </thead>\n",
       "  <tbody>\n",
       "    <tr>\n",
       "      <th>49400</th>\n",
       "      <td>Queen Adreena</td>\n",
       "      <td>Princess Carwash</td>\n",
       "      <td>/q/queen+adreena/princess+carwash_20607846.html</td>\n",
       "      <td>hang it up sailor your flag ship it burn and i...</td>\n",
       "    </tr>\n",
       "    <tr>\n",
       "      <th>57343</th>\n",
       "      <td>Yngwie Malmsteen</td>\n",
       "      <td>The Bogeyman</td>\n",
       "      <td>/y/yngwie+malmsteen/the+bogeyman_20531782.html</td>\n",
       "      <td>late at night i like to hide . i dwell insid t...</td>\n",
       "    </tr>\n",
       "    <tr>\n",
       "      <th>15925</th>\n",
       "      <td>Peter Tosh</td>\n",
       "      <td>Till Your Well Runs Dry</td>\n",
       "      <td>/p/peter+tosh/till+your+well+runs+dry_20809367...</td>\n",
       "      <td>you said you love me and then you left you bro...</td>\n",
       "    </tr>\n",
       "    <tr>\n",
       "      <th>17879</th>\n",
       "      <td>Rod Stewart</td>\n",
       "      <td>Lady Luck</td>\n",
       "      <td>/r/rod+stewart/lady+luck_10242430.html</td>\n",
       "      <td>ladi luck here i am on time proppin ' up the b...</td>\n",
       "    </tr>\n",
       "    <tr>\n",
       "      <th>6450</th>\n",
       "      <td>Freddie King</td>\n",
       "      <td>Same Old Blues</td>\n",
       "      <td>/f/freddie+king/same+old+blues_20825545.html</td>\n",
       "      <td>morn rain keep on fall like the tear that fall...</td>\n",
       "    </tr>\n",
       "    <tr>\n",
       "      <th>...</th>\n",
       "      <td>...</td>\n",
       "      <td>...</td>\n",
       "      <td>...</td>\n",
       "      <td>...</td>\n",
       "    </tr>\n",
       "    <tr>\n",
       "      <th>5850</th>\n",
       "      <td>Faces</td>\n",
       "      <td>Maybe I'm Amazed</td>\n",
       "      <td>/f/faces/maybe+im+amazed_20052423.html</td>\n",
       "      <td>mayb i 'm amaz at the way you love me all the ...</td>\n",
       "    </tr>\n",
       "    <tr>\n",
       "      <th>32098</th>\n",
       "      <td>Evanescence</td>\n",
       "      <td>The Other Side</td>\n",
       "      <td>/e/evanescence/the+other+side_20979987.html</td>\n",
       "      <td>make me whole again , open your eye taunt by t...</td>\n",
       "    </tr>\n",
       "    <tr>\n",
       "      <th>26487</th>\n",
       "      <td>Britney Spears</td>\n",
       "      <td>Little Me</td>\n",
       "      <td>/b/britney+spears/little+me_20897705.html</td>\n",
       "      <td>just yesterday you were look up to me and , yo...</td>\n",
       "    </tr>\n",
       "    <tr>\n",
       "      <th>871</th>\n",
       "      <td>Arrogant Worms</td>\n",
       "      <td>Me Like Hockey!</td>\n",
       "      <td>/a/arrogant+worms/me+like+hockey_20256048.html</td>\n",
       "      <td>me work hard 5 day a week sweep garbag from th...</td>\n",
       "    </tr>\n",
       "    <tr>\n",
       "      <th>55630</th>\n",
       "      <td>Waterboys</td>\n",
       "      <td>She Is So Beautiful</td>\n",
       "      <td>/w/waterboys/she+is+so+beautiful_20145462.html</td>\n",
       "      <td>she is so beauti i 've got no word to describ ...</td>\n",
       "    </tr>\n",
       "  </tbody>\n",
       "</table>\n",
       "<p>5000 rows × 4 columns</p>\n",
       "</div>"
      ],
      "text/plain": [
       "                 artist                     song  \\\n",
       "49400     Queen Adreena         Princess Carwash   \n",
       "57343  Yngwie Malmsteen             The Bogeyman   \n",
       "15925        Peter Tosh  Till Your Well Runs Dry   \n",
       "17879       Rod Stewart                Lady Luck   \n",
       "6450       Freddie King           Same Old Blues   \n",
       "...                 ...                      ...   \n",
       "5850              Faces         Maybe I'm Amazed   \n",
       "32098       Evanescence           The Other Side   \n",
       "26487    Britney Spears                Little Me   \n",
       "871      Arrogant Worms          Me Like Hockey!   \n",
       "55630         Waterboys      She Is So Beautiful   \n",
       "\n",
       "                                                    link  \\\n",
       "49400    /q/queen+adreena/princess+carwash_20607846.html   \n",
       "57343     /y/yngwie+malmsteen/the+bogeyman_20531782.html   \n",
       "15925  /p/peter+tosh/till+your+well+runs+dry_20809367...   \n",
       "17879             /r/rod+stewart/lady+luck_10242430.html   \n",
       "6450        /f/freddie+king/same+old+blues_20825545.html   \n",
       "...                                                  ...   \n",
       "5850              /f/faces/maybe+im+amazed_20052423.html   \n",
       "32098        /e/evanescence/the+other+side_20979987.html   \n",
       "26487          /b/britney+spears/little+me_20897705.html   \n",
       "871       /a/arrogant+worms/me+like+hockey_20256048.html   \n",
       "55630     /w/waterboys/she+is+so+beautiful_20145462.html   \n",
       "\n",
       "                                                    text  \n",
       "49400  hang it up sailor your flag ship it burn and i...  \n",
       "57343  late at night i like to hide . i dwell insid t...  \n",
       "15925  you said you love me and then you left you bro...  \n",
       "17879  ladi luck here i am on time proppin ' up the b...  \n",
       "6450   morn rain keep on fall like the tear that fall...  \n",
       "...                                                  ...  \n",
       "5850   mayb i 'm amaz at the way you love me all the ...  \n",
       "32098  make me whole again , open your eye taunt by t...  \n",
       "26487  just yesterday you were look up to me and , yo...  \n",
       "871    me work hard 5 day a week sweep garbag from th...  \n",
       "55630  she is so beauti i 've got no word to describ ...  \n",
       "\n",
       "[5000 rows x 4 columns]"
      ]
     },
     "execution_count": 18,
     "metadata": {},
     "output_type": "execute_result"
    }
   ],
   "source": [
    "pickle.load(open('df.pkl', 'rb'))"
   ]
  },
  {
   "cell_type": "code",
   "execution_count": 19,
   "id": "9be6e226-217d-4a8e-9c82-53ce769af73c",
   "metadata": {},
   "outputs": [
    {
     "name": "stdout",
     "output_type": "stream",
     "text": [
      "similarity.pkl: 200000164 bytes\n",
      "df.pkl: 5861608 bytes\n"
     ]
    }
   ],
   "source": [
    "import os\n",
    "print(\"similarity.pkl:\", os.path.getsize(\"similarity.pkl\"), \"bytes\")\n",
    "print(\"df.pkl:\", os.path.getsize(\"df.pkl\"), \"bytes\")"
   ]
  },
  {
   "cell_type": "code",
   "execution_count": 20,
   "id": "cceeb5ac-1b62-4255-8e5f-5b8b1afc0f8b",
   "metadata": {},
   "outputs": [
    {
     "name": "stdout",
     "output_type": "stream",
     "text": [
      "Shape of similarity matrix: (5000, 5000)\n"
     ]
    }
   ],
   "source": [
    "# Load your full similarity matrix\n",
    "with open('similarity.pkl', 'rb') as f:  # or np.load('similarity.npy')\n",
    "    similarity = pickle.load(f)\n",
    "\n",
    "print(\"Shape of similarity matrix:\", np.array(similarity).shape)\n"
   ]
  },
  {
   "cell_type": "code",
   "execution_count": 21,
   "id": "f16a7abe-2a5d-4fea-8609-baeee5070085",
   "metadata": {},
   "outputs": [],
   "source": [
    "# Convert to NumPy array if not already\n",
    "similarity = np.array(similarity)\n",
    "\n",
    "# Find midpoint\n",
    "mid = len(similarity) // 2\n",
    "\n",
    "# Split into two parts\n",
    "similarity_part1 = similarity[:mid, :]\n",
    "similarity_part2 = similarity[mid:, :]\n"
   ]
  },
  {
   "cell_type": "code",
   "execution_count": 22,
   "id": "d218feec-5eee-455e-b985-6882a9136333",
   "metadata": {},
   "outputs": [
    {
     "name": "stdout",
     "output_type": "stream",
     "text": [
      "Similarity matrix successfully split into 2 parts!\n"
     ]
    }
   ],
   "source": [
    "with open('similarity_part_1.pkl', 'wb') as f:\n",
    "    pickle.dump(similarity_part1, f)\n",
    "\n",
    "with open('similarity_part_2.pkl', 'wb') as f:\n",
    "    pickle.dump(similarity_part2, f)\n",
    "\n",
    "print(\"Similarity matrix successfully split into 2 parts!\")\n"
   ]
  },
  {
   "cell_type": "code",
   "execution_count": 23,
   "id": "c2df8b9b-1d05-477f-bd9a-f09f42e430c6",
   "metadata": {},
   "outputs": [
    {
     "name": "stdout",
     "output_type": "stream",
     "text": [
      "Part 1 shape: (2500, 5000)\n",
      "Part 2 shape: (2500, 5000)\n"
     ]
    }
   ],
   "source": [
    "with open('similarity_part_1.pkl', 'rb') as f:\n",
    "    part1 = pickle.load(f)\n",
    "print(\"Part 1 shape:\", np.array(part1).shape)\n",
    "\n",
    "with open('similarity_part_2.pkl', 'rb') as f:\n",
    "    part2 = pickle.load(f)\n",
    "print(\"Part 2 shape:\", np.array(part2).shape)\n"
   ]
  },
  {
   "cell_type": "code",
   "execution_count": 24,
   "id": "74a304dd-5fd9-42fe-ba74-ac790945ef0f",
   "metadata": {},
   "outputs": [
    {
     "name": "stdout",
     "output_type": "stream",
     "text": [
      "✅ Saved: df.pkl and similarity.pkl\n"
     ]
    }
   ],
   "source": [
    "with open(\"similarity.pkl\", \"wb\") as f:\n",
    "    pickle.dump(similarity, f)\n",
    "\n",
    "with open(\"df.pkl\", \"wb\") as f:\n",
    "    pickle.dump(df, f)\n",
    "\n",
    "print(\"✅ Saved: df.pkl and similarity.pkl\")"
   ]
  },
  {
   "cell_type": "code",
   "execution_count": null,
   "id": "b15ece3c-2b01-4f80-90c6-f0dd5fda4071",
   "metadata": {},
   "outputs": [],
   "source": []
  }
 ],
 "metadata": {
  "kernelspec": {
   "display_name": "Python [conda env:base] *",
   "language": "python",
   "name": "conda-base-py"
  },
  "language_info": {
   "codemirror_mode": {
    "name": "ipython",
    "version": 3
   },
   "file_extension": ".py",
   "mimetype": "text/x-python",
   "name": "python",
   "nbconvert_exporter": "python",
   "pygments_lexer": "ipython3",
   "version": "3.13.5"
  }
 },
 "nbformat": 4,
 "nbformat_minor": 5
}
